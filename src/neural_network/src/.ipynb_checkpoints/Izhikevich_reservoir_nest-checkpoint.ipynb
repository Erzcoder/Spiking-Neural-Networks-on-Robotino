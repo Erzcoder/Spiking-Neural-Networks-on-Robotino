{
 "metadata": {
  "name": "",
  "signature": "sha256:bee9a5c20b9896c0f2740469bfbda01507819572020d90f1fa08347bffd6f5d3"
 },
 "nbformat": 3,
 "nbformat_minor": 0,
 "worksheets": [
  {
   "cells": [
    {
     "cell_type": "code",
     "collapsed": false,
     "input": [
      "simulator_name = 'nest'\n",
      "\n",
      "\n",
      "import pyNN.nest as p\n",
      "from pyNN.random import NumpyRNG, RandomDistribution\n",
      "from pyNN.utility import Timer\n",
      "\n",
      "timer = Timer()\n",
      "\n",
      "# === Define parameters ===\n",
      "threads = 1\n",
      "rngseed = 98766987\n",
      "parallel_safe = True\n",
      "stim_dur = 50.    # (ms) duration of random stimulation\n",
      "rate = 100.       # (Hz) frequency of the random stimulation\n",
      "\n",
      "dt = 1.0          # (ms) simulation timestep\n",
      "tstop = 1000      # (ms) simulaton duration\n",
      "delay = 2"
     ],
     "language": "python",
     "metadata": {},
     "outputs": [],
     "prompt_number": 1
    },
    {
     "cell_type": "code",
     "collapsed": false,
     "input": [
      "n = 1500          # number of cells\n",
      "exc_ratio = 0.8   # ratio of excitatory neurons\n",
      "pconn = 0.02      # connection probability\n",
      "\n",
      "n_exc = int(round(n*0.8))\n",
      "n_inh = n-n_exc\n",
      "print n_exc, n_inh\n",
      "\n",
      "# === cell parameters === TODO: \n",
      "v_reset = -60.    # (mV)\n",
      "v_thresh = -50.   # (mV)\n",
      "\n",
      "Gexc = 4.     # (nS)\n",
      "Ginh = 51.    # (nS)\n",
      "w_exc = Gexc * 1e-3              # We convert conductances to uS\n",
      "w_inh = Ginh * 1e-3\n",
      "    \n"
     ],
     "language": "python",
     "metadata": {},
     "outputs": [
      {
       "output_type": "stream",
       "stream": "stdout",
       "text": [
        "1200 300\n"
       ]
      }
     ],
     "prompt_number": 2
    },
    {
     "cell_type": "code",
     "collapsed": false,
     "input": [
      "# === Build the network ===\n",
      "\n",
      "\n",
      "# cell_params = {'a':0.02, 'b':0.2, 'c':-65, 'd':6, 'i_offset':0.0} only for Izhikevich\n",
      "cell_params = {'tau_m': 20.0, 'v_rest': -65.0, 'tau_syn_I': 5.0, 'v_reset': -65.0,\n",
      "               'tau_refrac': 0.1, 'cm': 1.0, 'i_offset': 0.0, 'tau_syn_E': 5.0, 'e_rev_E': 0.0, \n",
      "               'v_thresh': -50.0, 'e_rev_I': -70.0}\n",
      "celltype = p.IF_cond_exp(cell_params)\n",
      "exc_cells = p.Population(n_exc, celltype, label=\"Excitatory_Cells\")\n",
      "inh_cells = p.Population(n_inh, celltype, label=\"Inhibitory_Cells\")\n",
      "\n",
      "ext_stim = p.Population(\n",
      "            20, SpikeSourcePoisson,\n",
      "            {'rate': rate, 'duration': stim_dur},\n",
      "            label=\"expoisson\")\n",
      "rconn = 0.01\n",
      "ext_conn = FixedProbabilityConnector(rconn, weights=0.1)\n",
      "ext_stim.record()"
     ],
     "language": "python",
     "metadata": {},
     "outputs": [
      {
       "ename": "TypeError",
       "evalue": "'IF_cond_exp' object is not callable",
       "output_type": "pyerr",
       "traceback": [
        "\u001b[0;31m---------------------------------------------------------------------------\u001b[0m\n\u001b[0;31mTypeError\u001b[0m                                 Traceback (most recent call last)",
        "\u001b[0;32m<ipython-input-7-316fa1e658f3>\u001b[0m in \u001b[0;36m<module>\u001b[0;34m()\u001b[0m\n\u001b[1;32m      7\u001b[0m                'v_thresh': -50.0, 'e_rev_I': -70.0}\n\u001b[1;32m      8\u001b[0m \u001b[0mcelltype\u001b[0m \u001b[0;34m=\u001b[0m \u001b[0mp\u001b[0m\u001b[0;34m.\u001b[0m\u001b[0mIF_cond_exp\u001b[0m\u001b[0;34m(\u001b[0m\u001b[0mcell_params\u001b[0m\u001b[0;34m)\u001b[0m\u001b[0;34m\u001b[0m\u001b[0m\n\u001b[0;32m----> 9\u001b[0;31m \u001b[0mexc_cells\u001b[0m \u001b[0;34m=\u001b[0m \u001b[0mp\u001b[0m\u001b[0;34m.\u001b[0m\u001b[0mPopulation\u001b[0m\u001b[0;34m(\u001b[0m\u001b[0mn_exc\u001b[0m\u001b[0;34m,\u001b[0m \u001b[0mcelltype\u001b[0m\u001b[0;34m,\u001b[0m \u001b[0mlabel\u001b[0m\u001b[0;34m=\u001b[0m\u001b[0;34m\"Excitatory_Cells\"\u001b[0m\u001b[0;34m)\u001b[0m\u001b[0;34m\u001b[0m\u001b[0m\n\u001b[0m\u001b[1;32m     10\u001b[0m \u001b[0minh_cells\u001b[0m \u001b[0;34m=\u001b[0m \u001b[0mp\u001b[0m\u001b[0;34m.\u001b[0m\u001b[0mPopulation\u001b[0m\u001b[0;34m(\u001b[0m\u001b[0mn_inh\u001b[0m\u001b[0;34m,\u001b[0m \u001b[0mcelltype\u001b[0m\u001b[0;34m,\u001b[0m \u001b[0mlabel\u001b[0m\u001b[0;34m=\u001b[0m\u001b[0;34m\"Inhibitory_Cells\"\u001b[0m\u001b[0;34m)\u001b[0m\u001b[0;34m\u001b[0m\u001b[0m\n\u001b[1;32m     11\u001b[0m \u001b[0;34m\u001b[0m\u001b[0m\n",
        "\u001b[0;32m/usr/local/lib/python2.7/dist-packages/pyNN/common.pyc\u001b[0m in \u001b[0;36m__init__\u001b[0;34m(self, size, cellclass, cellparams, structure, label)\u001b[0m\n\u001b[1;32m    891\u001b[0m         \u001b[0mself\u001b[0m\u001b[0;34m.\u001b[0m\u001b[0msize\u001b[0m \u001b[0;34m=\u001b[0m \u001b[0msize\u001b[0m\u001b[0;34m\u001b[0m\u001b[0m\n\u001b[1;32m    892\u001b[0m         \u001b[0mself\u001b[0m\u001b[0;34m.\u001b[0m\u001b[0mlabel\u001b[0m \u001b[0;34m=\u001b[0m \u001b[0mlabel\u001b[0m \u001b[0;32mor\u001b[0m \u001b[0;34m'population%d'\u001b[0m \u001b[0;34m%\u001b[0m \u001b[0mPopulation\u001b[0m\u001b[0;34m.\u001b[0m\u001b[0mnPop\u001b[0m\u001b[0;34m\u001b[0m\u001b[0m\n\u001b[0;32m--> 893\u001b[0;31m         \u001b[0mself\u001b[0m\u001b[0;34m.\u001b[0m\u001b[0mcelltype\u001b[0m \u001b[0;34m=\u001b[0m \u001b[0mcellclass\u001b[0m\u001b[0;34m(\u001b[0m\u001b[0mcellparams\u001b[0m\u001b[0;34m)\u001b[0m\u001b[0;34m\u001b[0m\u001b[0m\n\u001b[0m\u001b[1;32m    894\u001b[0m         \u001b[0mself\u001b[0m\u001b[0;34m.\u001b[0m\u001b[0m_structure\u001b[0m \u001b[0;34m=\u001b[0m \u001b[0mstructure\u001b[0m \u001b[0;32mor\u001b[0m \u001b[0mspace\u001b[0m\u001b[0;34m.\u001b[0m\u001b[0mLine\u001b[0m\u001b[0;34m(\u001b[0m\u001b[0;34m)\u001b[0m\u001b[0;34m\u001b[0m\u001b[0m\n\u001b[1;32m    895\u001b[0m         \u001b[0mself\u001b[0m\u001b[0;34m.\u001b[0m\u001b[0m_positions\u001b[0m \u001b[0;34m=\u001b[0m \u001b[0mNone\u001b[0m\u001b[0;34m\u001b[0m\u001b[0m\n",
        "\u001b[0;31mTypeError\u001b[0m: 'IF_cond_exp' object is not callable"
       ]
      }
     ],
     "prompt_number": 7
    },
    {
     "cell_type": "code",
     "collapsed": false,
     "input": [
      "print \"%s Initialising membrane potential to random values...\" % node_id\n",
      "\n",
      "rng = NumpyRNG(seed=rngseed, parallel_safe=parallel_safe)\n",
      "uniformDistr = RandomDistribution('uniform', [v_reset, v_thresh], rng=rng)\n",
      "exc_cells.initialize('v', uniformDistr)\n",
      "inh_cells.initialize('v', uniformDistr)"
     ],
     "language": "python",
     "metadata": {},
     "outputs": [
      {
       "output_type": "stream",
       "stream": "stdout",
       "text": [
        "1 Initialising membrane potential to random values...\n"
       ]
      }
     ],
     "prompt_number": 42
    },
    {
     "cell_type": "code",
     "collapsed": false,
     "input": [
      "print \"%s Connecting populations...\" % node_id\n",
      "exc_conn = FixedProbabilityConnector(pconn, weights=w_exc, delays=delay)\n",
      "inh_conn = FixedProbabilityConnector(pconn, weights=w_inh, delays=delay)\n",
      "\n",
      "connections = {}\n",
      "connections['e2e'] = Projection(exc_cells, exc_cells, exc_conn,\n",
      "                                target='excitatory', rng=rng)\n",
      "connections['e2i'] = Projection(exc_cells, inh_cells, exc_conn,\n",
      "                                target='excitatory', rng=rng)\n",
      "connections['i2e'] = Projection(inh_cells, exc_cells, inh_conn,\n",
      "                                target='inhibitory', rng=rng)\n",
      "connections['i2i'] = Projection(inh_cells, inh_cells, inh_conn,\n",
      "                                target='inhibitory', rng=rng)\n",
      "\n",
      "\n",
      "connections['ext2e'] = Projection(ext_stim, exc_cells, ext_conn,\n",
      "                                      target='excitatory')\n",
      "connections['ext2i'] = Projection(ext_stim, inh_cells, ext_conn,\n",
      "                                      target='excitatory')\n"
     ],
     "language": "python",
     "metadata": {},
     "outputs": [
      {
       "output_type": "stream",
       "stream": "stdout",
       "text": [
        "1 Connecting populations...\n"
       ]
      }
     ],
     "prompt_number": 43
    },
    {
     "cell_type": "code",
     "collapsed": false,
     "input": [
      "\n",
      "# === Setup recording ===\n",
      "print \"%s Setting up recording...\" % node_id\n",
      "exc_cells.record()\n",
      "\n",
      "buildCPUTime = timer.diff()\n",
      "\n",
      "# === Run simulation ===\n",
      "print \"%d Running simulation...\" % node_id\n",
      "\n",
      "print \"timings: number of neurons:\", n\n",
      "print \"timings: number of synapses:\", n * n * pconn\n",
      "\n",
      "run(tstop)\n",
      "\n",
      "simCPUTime = timer.diff()\n"
     ],
     "language": "python",
     "metadata": {},
     "outputs": [
      {
       "ename": "NameError",
       "evalue": "name 'node_id' is not defined",
       "output_type": "pyerr",
       "traceback": [
        "\u001b[0;31m---------------------------------------------------------------------------\u001b[0m\n\u001b[0;31mNameError\u001b[0m                                 Traceback (most recent call last)",
        "\u001b[0;32m<ipython-input-8-ef1b68563de2>\u001b[0m in \u001b[0;36m<module>\u001b[0;34m()\u001b[0m\n\u001b[1;32m      1\u001b[0m \u001b[0;34m\u001b[0m\u001b[0m\n\u001b[1;32m      2\u001b[0m \u001b[0;31m# === Setup recording ===\u001b[0m\u001b[0;34m\u001b[0m\u001b[0;34m\u001b[0m\u001b[0m\n\u001b[0;32m----> 3\u001b[0;31m \u001b[0;32mprint\u001b[0m \u001b[0;34m\"%s Setting up recording...\"\u001b[0m \u001b[0;34m%\u001b[0m \u001b[0mnode_id\u001b[0m\u001b[0;34m\u001b[0m\u001b[0m\n\u001b[0m\u001b[1;32m      4\u001b[0m \u001b[0mexc_cells\u001b[0m\u001b[0;34m.\u001b[0m\u001b[0mrecord\u001b[0m\u001b[0;34m(\u001b[0m\u001b[0;34m)\u001b[0m\u001b[0;34m\u001b[0m\u001b[0m\n\u001b[1;32m      5\u001b[0m \u001b[0;34m\u001b[0m\u001b[0m\n",
        "\u001b[0;31mNameError\u001b[0m: name 'node_id' is not defined"
       ]
      }
     ],
     "prompt_number": 8
    },
    {
     "cell_type": "code",
     "collapsed": false,
     "input": [
      "\n",
      "# === Print results to file ===\n",
      "\n",
      "import pylab\n",
      "\n",
      "exc_spikes = exc_cells.getSpikes(compatible_output=True)\n",
      "pylab.figure()\n",
      "pylab.plot([i[1] for i in exc_spikes],\n",
      "           [i[0] for i in exc_spikes], \".\", markersize=2)\n",
      "pylab.xlabel('Time/ms')\n",
      "pylab.ylabel('spikes')\n",
      "pylab.title('spikes')\n",
      "pylab.show()\n",
      "\n",
      "\n",
      "# === Finished with simulator ===\n",
      "\n",
      "end()"
     ],
     "language": "python",
     "metadata": {},
     "outputs": [
      {
       "ename": "NameError",
       "evalue": "name 'exc_cells' is not defined",
       "output_type": "pyerr",
       "traceback": [
        "\u001b[0;31m---------------------------------------------------------------------------\u001b[0m\n\u001b[0;31mNameError\u001b[0m                                 Traceback (most recent call last)",
        "\u001b[0;32m<ipython-input-9-f8867e28c068>\u001b[0m in \u001b[0;36m<module>\u001b[0;34m()\u001b[0m\n\u001b[1;32m      4\u001b[0m \u001b[0;32mimport\u001b[0m \u001b[0mpylab\u001b[0m\u001b[0;34m\u001b[0m\u001b[0m\n\u001b[1;32m      5\u001b[0m \u001b[0;34m\u001b[0m\u001b[0m\n\u001b[0;32m----> 6\u001b[0;31m \u001b[0mexc_spikes\u001b[0m \u001b[0;34m=\u001b[0m \u001b[0mexc_cells\u001b[0m\u001b[0;34m.\u001b[0m\u001b[0mgetSpikes\u001b[0m\u001b[0;34m(\u001b[0m\u001b[0mcompatible_output\u001b[0m\u001b[0;34m=\u001b[0m\u001b[0mTrue\u001b[0m\u001b[0;34m)\u001b[0m\u001b[0;34m\u001b[0m\u001b[0m\n\u001b[0m\u001b[1;32m      7\u001b[0m \u001b[0mpylab\u001b[0m\u001b[0;34m.\u001b[0m\u001b[0mfigure\u001b[0m\u001b[0;34m(\u001b[0m\u001b[0;34m)\u001b[0m\u001b[0;34m\u001b[0m\u001b[0m\n\u001b[1;32m      8\u001b[0m pylab.plot([i[1] for i in exc_spikes],\n",
        "\u001b[0;31mNameError\u001b[0m: name 'exc_cells' is not defined"
       ]
      }
     ],
     "prompt_number": 9
    },
    {
     "cell_type": "code",
     "collapsed": false,
     "input": [],
     "language": "python",
     "metadata": {},
     "outputs": []
    }
   ],
   "metadata": {}
  }
 ]
}