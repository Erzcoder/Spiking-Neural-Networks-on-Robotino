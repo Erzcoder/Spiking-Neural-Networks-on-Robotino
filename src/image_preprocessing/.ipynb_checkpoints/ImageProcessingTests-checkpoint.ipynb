{
 "metadata": {
  "name": "",
  "signature": "sha256:210f39ee444d034b74b9c2e2e0edd4168057a4bbb08ed7a8796eebb021eb1e63"
 },
 "nbformat": 3,
 "nbformat_minor": 0,
 "worksheets": [
  {
   "cells": [
    {
     "cell_type": "code",
     "collapsed": false,
     "input": [
      "import numpy as np\n",
      "from matplotlib import pyplot as plt\n",
      "import cv2\n",
      "\n",
      "cap = cv2.VideoCapture(0)\n",
      "\n",
      "\n",
      "\n",
      "\n",
      "while(1):\n",
      "    ret, frame = cap.read()\n",
      "    \n",
      "    # median Blur\n",
      "    img = cv2.medianBlur(frame,5)\n",
      "\n",
      "    # convert to grayscale\n",
      "    gray = cv2.cvtColor(img, cv2.COLOR_BGR2GRAY)\n",
      "    \n",
      "    # apply thresholding\n",
      "    thresh = 140\n",
      "    maxValue = 255\n",
      "    ret2, thresh1 = cv2.threshold(gray, thresh, maxValue, cv2.THRESH_BINARY);\n",
      "    # Adaptive Gaussian Thresholding\n",
      "    ret3, thresh2 = cv2.threshold(gray, thresh, cv2.ADAPTIVE_THRESH_GAUSSIAN_C,11,2)\n",
      "    \n",
      "    titles = ['Original Image','Gray','Threshold','Test']\n",
      "    images = [frame, gray, thresh1, thresh2]\n",
      " \n",
      "    #for i in xrange(4):\n",
      "    #    plt.subplot(2,2,i+1),plt.imshow(images[i],'gray')\n",
      "    #    plt.title(titles[i])\n",
      "    #    plt.xticks([]),plt.yticks([])\n",
      "    #plt.show()\n",
      "    \n",
      "    blurred = cv2.GaussianBlur(thresh1,(11,11),0) #(x,y) must be odd!\n",
      "\n",
      "    # Display the resulting frame\n",
      "    cv2.imshow('original image',frame )\n",
      "    cv2.imshow('binary threshold',thresh1)\n",
      "    cv2.imshow('adaptive gaussian threshold',thresh2)\n",
      "    cv2.imshow('blurred image', blurred)\n",
      "    if cv2.waitKey(1) & 0xFF == ord('q'):\n",
      "        break\n",
      "cap.release()\n",
      "cv2.destroyAllWindows()"
     ],
     "language": "python",
     "metadata": {},
     "outputs": [],
     "prompt_number": 1
    },
    {
     "cell_type": "code",
     "collapsed": false,
     "input": [],
     "language": "python",
     "metadata": {},
     "outputs": []
    }
   ],
   "metadata": {}
  }
 ]
}